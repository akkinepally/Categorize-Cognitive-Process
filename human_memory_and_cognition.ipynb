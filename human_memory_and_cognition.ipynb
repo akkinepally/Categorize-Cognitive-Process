{
  "nbformat": 4,
  "nbformat_minor": 0,
  "metadata": {
    "colab": {
      "name": "human_memory_and_cognition.ipynb",
      "provenance": [],
      "collapsed_sections": [],
      "toc_visible": true,
      "authorship_tag": "ABX9TyP6cwqsDqr84so9RobrEGDp",
      "include_colab_link": true
    },
    "kernelspec": {
      "name": "python3",
      "display_name": "Python 3"
    }
  },
  "cells": [
    {
      "cell_type": "markdown",
      "metadata": {
        "id": "view-in-github",
        "colab_type": "text"
      },
      "source": [
        "<a href=\"https://colab.research.google.com/github/akkinepally/categorize-cognitive-processes/blob/main/human_memory_and_cognition.ipynb\" target=\"_parent\"><img src=\"https://colab.research.google.com/assets/colab-badge.svg\" alt=\"Open In Colab\"/></a>"
      ]
    },
    {
      "cell_type": "markdown",
      "metadata": {
        "id": "G5D9FXkQxJCx"
      },
      "source": [
        "# Import Libraries"
      ]
    },
    {
      "cell_type": "code",
      "metadata": {
        "id": "KeYeMwa7xIiH"
      },
      "source": [
        "import pandas as pd\n",
        "from sklearn.preprocessing import LabelEncoder\n",
        "from sklearn.model_selection import train_test_split\n",
        "from xgboost import XGBClassifier\n",
        "from sklearn.metrics import accuracy_score\n",
        "import numpy as np "
      ],
      "execution_count": 1,
      "outputs": []
    },
    {
      "cell_type": "markdown",
      "metadata": {
        "id": "vX_wCn_fxa66"
      },
      "source": [
        "# Load Data"
      ]
    },
    {
      "cell_type": "code",
      "metadata": {
        "id": "bxFhHV2VxCxl"
      },
      "source": [
        "train_data = pd.read_csv(\"https://raw.githubusercontent.com/dphi-official/Datasets/master/hippocorpus/train_set_label.csv\" )"
      ],
      "execution_count": 2,
      "outputs": []
    },
    {
      "cell_type": "code",
      "metadata": {
        "colab": {
          "base_uri": "https://localhost:8080/",
          "height": 686
        },
        "id": "bnMUDFQbxQXe",
        "outputId": "ac68fb2e-ef68-4160-e807-7601e22179ea"
      },
      "source": [
        "train_data.head()"
      ],
      "execution_count": 3,
      "outputs": [
        {
          "output_type": "execute_result",
          "data": {
            "text/html": [
              "<div>\n",
              "<style scoped>\n",
              "    .dataframe tbody tr th:only-of-type {\n",
              "        vertical-align: middle;\n",
              "    }\n",
              "\n",
              "    .dataframe tbody tr th {\n",
              "        vertical-align: top;\n",
              "    }\n",
              "\n",
              "    .dataframe thead th {\n",
              "        text-align: right;\n",
              "    }\n",
              "</style>\n",
              "<table border=\"1\" class=\"dataframe\">\n",
              "  <thead>\n",
              "    <tr style=\"text-align: right;\">\n",
              "      <th></th>\n",
              "      <th>AssignmentId</th>\n",
              "      <th>WorkTimeInSeconds</th>\n",
              "      <th>WorkerId</th>\n",
              "      <th>annotatorAge</th>\n",
              "      <th>annotatorGender</th>\n",
              "      <th>annotatorRace</th>\n",
              "      <th>distracted</th>\n",
              "      <th>draining</th>\n",
              "      <th>frequency</th>\n",
              "      <th>importance</th>\n",
              "      <th>logTimeSinceEvent</th>\n",
              "      <th>mainEvent</th>\n",
              "      <th>mostSurprising</th>\n",
              "      <th>openness</th>\n",
              "      <th>recAgnPairId</th>\n",
              "      <th>recImgPairId</th>\n",
              "      <th>similarity</th>\n",
              "      <th>similarityReason</th>\n",
              "      <th>story</th>\n",
              "      <th>stressful</th>\n",
              "      <th>summary</th>\n",
              "      <th>timeSinceEvent</th>\n",
              "      <th>memType</th>\n",
              "    </tr>\n",
              "  </thead>\n",
              "  <tbody>\n",
              "    <tr>\n",
              "      <th>0</th>\n",
              "      <td>39DD6S19JQXBBJGPFEBWSF4G1TQEZJ</td>\n",
              "      <td>1025</td>\n",
              "      <td>YGROBIBW</td>\n",
              "      <td>35.0</td>\n",
              "      <td>Man</td>\n",
              "      <td>white</td>\n",
              "      <td>one</td>\n",
              "      <td>3.0</td>\n",
              "      <td>2.0</td>\n",
              "      <td>3.0</td>\n",
              "      <td>4.094345</td>\n",
              "      <td>my friend's death and how our group of friends...</td>\n",
              "      <td>the mourning process had a kind of positive si...</td>\n",
              "      <td>0.375</td>\n",
              "      <td>3RKNTXVS3NKSI9BOEGJK201G4H2A46</td>\n",
              "      <td>NaN</td>\n",
              "      <td>NaN</td>\n",
              "      <td>NaN</td>\n",
              "      <td>We were friends from high school. I got a call...</td>\n",
              "      <td>3.0</td>\n",
              "      <td>my friend's death. Old friends reunited to sha...</td>\n",
              "      <td>60.0</td>\n",
              "      <td>retold</td>\n",
              "    </tr>\n",
              "    <tr>\n",
              "      <th>1</th>\n",
              "      <td>3WQQ9FUS6BGYKK3IWX9TEN1R8RLB87</td>\n",
              "      <td>1987</td>\n",
              "      <td>KK89LEHY</td>\n",
              "      <td>35.0</td>\n",
              "      <td>woman</td>\n",
              "      <td>indian</td>\n",
              "      <td>one</td>\n",
              "      <td>5.0</td>\n",
              "      <td>3.0</td>\n",
              "      <td>5.0</td>\n",
              "      <td>5.010635</td>\n",
              "      <td>the loss of my father and the impact he had on...</td>\n",
              "      <td>he died very suddenly and within minutes</td>\n",
              "      <td>0.625</td>\n",
              "      <td>NaN</td>\n",
              "      <td>3WQQ9FUS6BGYKK3IWX9TEN1R8RLB87</td>\n",
              "      <td>NaN</td>\n",
              "      <td>NaN</td>\n",
              "      <td>Five months ago, my father passed away from a ...</td>\n",
              "      <td>2.0</td>\n",
              "      <td>My dad, who was a significant person in my lif...</td>\n",
              "      <td>150.0</td>\n",
              "      <td>recalled</td>\n",
              "    </tr>\n",
              "    <tr>\n",
              "      <th>2</th>\n",
              "      <td>3YDTZAI2WY2WOLYOIXQRRZ8DKXB14S</td>\n",
              "      <td>1604</td>\n",
              "      <td>JIWFAU5T</td>\n",
              "      <td>35.0</td>\n",
              "      <td>man</td>\n",
              "      <td>White</td>\n",
              "      <td>one</td>\n",
              "      <td>one</td>\n",
              "      <td>5.0</td>\n",
              "      <td>5.0</td>\n",
              "      <td>4.787492</td>\n",
              "      <td>how I met my wife.</td>\n",
              "      <td>when I got my unreserved kind of love.</td>\n",
              "      <td>1.000</td>\n",
              "      <td>NaN</td>\n",
              "      <td>3YDTZAI2WY2WOLYOIXQRRZ8DKXB14S</td>\n",
              "      <td>NaN</td>\n",
              "      <td>NaN</td>\n",
              "      <td>My Most Memorable Day of My Life! I found my o...</td>\n",
              "      <td>1.0</td>\n",
              "      <td>The best thing may be difficult to find. I was...</td>\n",
              "      <td>120.0</td>\n",
              "      <td>recalled</td>\n",
              "    </tr>\n",
              "    <tr>\n",
              "      <th>3</th>\n",
              "      <td>3Q8GYXHFEQOY77CMCZYLDNXJ2YBC58</td>\n",
              "      <td>6369</td>\n",
              "      <td>1NHCDDOJ</td>\n",
              "      <td>40.0</td>\n",
              "      <td>woman</td>\n",
              "      <td>white</td>\n",
              "      <td>one</td>\n",
              "      <td>one</td>\n",
              "      <td>NaN</td>\n",
              "      <td>4.0</td>\n",
              "      <td>5.480639</td>\n",
              "      <td>the events leading up to my wedding</td>\n",
              "      <td>a surprise flash mob wedding proposal</td>\n",
              "      <td>0.875</td>\n",
              "      <td>NaN</td>\n",
              "      <td>3WLEIWSYHP3XPI4FG8AOQ7RM04VH26</td>\n",
              "      <td>1.0</td>\n",
              "      <td>This was not at all how I got engaged, but a w...</td>\n",
              "      <td>It has been such a whirlwind these past 8 mont...</td>\n",
              "      <td>1.0</td>\n",
              "      <td>The event described details my wedding which o...</td>\n",
              "      <td>240.0</td>\n",
              "      <td>imagined</td>\n",
              "    </tr>\n",
              "    <tr>\n",
              "      <th>4</th>\n",
              "      <td>32AT8R96GMVVZ3RXAMWT04TG9CISU0</td>\n",
              "      <td>1083</td>\n",
              "      <td>A5SWJWSQ</td>\n",
              "      <td>30.0</td>\n",
              "      <td>MAN</td>\n",
              "      <td>white</td>\n",
              "      <td>one</td>\n",
              "      <td>5.0</td>\n",
              "      <td>3.0</td>\n",
              "      <td>5.0</td>\n",
              "      <td>4.094345</td>\n",
              "      <td>Attending a funeral for my cousin.</td>\n",
              "      <td>How emotional I felt during at the cemetery.</td>\n",
              "      <td>1.000</td>\n",
              "      <td>NaN</td>\n",
              "      <td>32AT8R96GMVVZ3RXAMWT04TG9CISU0</td>\n",
              "      <td>NaN</td>\n",
              "      <td>NaN</td>\n",
              "      <td>Today was one of the saddest days of my life. ...</td>\n",
              "      <td>4.0</td>\n",
              "      <td>My cousin recently passed away due to brain ca...</td>\n",
              "      <td>60.0</td>\n",
              "      <td>recalled</td>\n",
              "    </tr>\n",
              "  </tbody>\n",
              "</table>\n",
              "</div>"
            ],
            "text/plain": [
              "                     AssignmentId  WorkTimeInSeconds  ... timeSinceEvent   memType\n",
              "0  39DD6S19JQXBBJGPFEBWSF4G1TQEZJ               1025  ...           60.0    retold\n",
              "1  3WQQ9FUS6BGYKK3IWX9TEN1R8RLB87               1987  ...          150.0  recalled\n",
              "2  3YDTZAI2WY2WOLYOIXQRRZ8DKXB14S               1604  ...          120.0  recalled\n",
              "3  3Q8GYXHFEQOY77CMCZYLDNXJ2YBC58               6369  ...          240.0  imagined\n",
              "4  32AT8R96GMVVZ3RXAMWT04TG9CISU0               1083  ...           60.0  recalled\n",
              "\n",
              "[5 rows x 23 columns]"
            ]
          },
          "metadata": {
            "tags": []
          },
          "execution_count": 3
        }
      ]
    },
    {
      "cell_type": "markdown",
      "metadata": {
        "id": "HPFwcVNKxeal"
      },
      "source": [
        "# Exploratory Data Analysis"
      ]
    },
    {
      "cell_type": "code",
      "metadata": {
        "colab": {
          "base_uri": "https://localhost:8080/"
        },
        "id": "RvM4bRvQxd9l",
        "outputId": "89dce81b-0f91-447d-facf-cc1eec84a774"
      },
      "source": [
        "train_data.info()\n"
      ],
      "execution_count": 4,
      "outputs": [
        {
          "output_type": "stream",
          "text": [
            "<class 'pandas.core.frame.DataFrame'>\n",
            "RangeIndex: 6797 entries, 0 to 6796\n",
            "Data columns (total 23 columns):\n",
            " #   Column             Non-Null Count  Dtype  \n",
            "---  ------             --------------  -----  \n",
            " 0   AssignmentId       6797 non-null   object \n",
            " 1   WorkTimeInSeconds  6797 non-null   int64  \n",
            " 2   WorkerId           6797 non-null   object \n",
            " 3   annotatorAge       6771 non-null   float64\n",
            " 4   annotatorGender    6793 non-null   object \n",
            " 5   annotatorRace      6797 non-null   object \n",
            " 6   distracted         6797 non-null   object \n",
            " 7   draining           6797 non-null   object \n",
            " 8   frequency          4052 non-null   float64\n",
            " 9   importance         6649 non-null   float64\n",
            " 10  logTimeSinceEvent  6797 non-null   float64\n",
            " 11  mainEvent          6797 non-null   object \n",
            " 12  mostSurprising     6797 non-null   object \n",
            " 13  openness           6797 non-null   float64\n",
            " 14  recAgnPairId       2549 non-null   object \n",
            " 15  recImgPairId       5303 non-null   object \n",
            " 16  similarity         2745 non-null   float64\n",
            " 17  similarityReason   2745 non-null   object \n",
            " 18  story              6797 non-null   object \n",
            " 19  stressful          6797 non-null   float64\n",
            " 20  summary            6797 non-null   object \n",
            " 21  timeSinceEvent     6797 non-null   float64\n",
            " 22  memType            6797 non-null   object \n",
            "dtypes: float64(8), int64(1), object(14)\n",
            "memory usage: 1.2+ MB\n"
          ],
          "name": "stdout"
        }
      ]
    },
    {
      "cell_type": "code",
      "metadata": {
        "colab": {
          "base_uri": "https://localhost:8080/"
        },
        "id": "s6fiW0F_xmLe",
        "outputId": "6ca6760a-53ba-406d-a837-df94c062de6d"
      },
      "source": [
        "train_data.isnull().sum()"
      ],
      "execution_count": 5,
      "outputs": [
        {
          "output_type": "execute_result",
          "data": {
            "text/plain": [
              "AssignmentId            0\n",
              "WorkTimeInSeconds       0\n",
              "WorkerId                0\n",
              "annotatorAge           26\n",
              "annotatorGender         4\n",
              "annotatorRace           0\n",
              "distracted              0\n",
              "draining                0\n",
              "frequency            2745\n",
              "importance            148\n",
              "logTimeSinceEvent       0\n",
              "mainEvent               0\n",
              "mostSurprising          0\n",
              "openness                0\n",
              "recAgnPairId         4248\n",
              "recImgPairId         1494\n",
              "similarity           4052\n",
              "similarityReason     4052\n",
              "story                   0\n",
              "stressful               0\n",
              "summary                 0\n",
              "timeSinceEvent          0\n",
              "memType                 0\n",
              "dtype: int64"
            ]
          },
          "metadata": {
            "tags": []
          },
          "execution_count": 5
        }
      ]
    },
    {
      "cell_type": "code",
      "metadata": {
        "id": "8bj5vtyqeblu"
      },
      "source": [
        "def preprocess_data(data):\r\n",
        "  data['draining'] = data['draining'].replace('one', 1.0)\r\n",
        "  data['distracted'] = data['distracted'].replace('one', 1.0)\r\n",
        "  data = data.astype({'draining':float,'distracted':float })\r\n",
        "  data['annotatorGender'] = data['annotatorGender'].replace(['Woman', 'WOMAN'], 'woman')\r\n",
        "  data['annotatorGender'] = data['annotatorGender'].replace(['Man', 'MAN'], 'man')\r\n",
        "  data['annotatorGender'] = data['annotatorGender'].replace(['Transman', 'TRANSMAN'], 'transman')\r\n",
        "  data['annotatorGender'] = data['annotatorGender'].replace(['Transwoman', 'TRANSWOMAN'], 'transwoman')\r\n",
        "  data['annotatorGender'] = data['annotatorGender'].replace(['na', 'Nonbinary', 'nonBinary', 'NONBINARY', 'Na'], 'other')\r\n",
        "  data['annotatorGender'] = np.where(data['annotatorGender'].isin(['man', 'woman']), data['annotatorGender'], 'Other')\r\n",
        "  data['annotatorRace'] = data['annotatorRace'].replace(['White'], 'white')\r\n",
        "  data['annotatorRace'] = data['annotatorRace'].replace(['Black'], 'black')\r\n",
        "  data['annotatorRace'] = np.where(data['annotatorRace'].isin(['white','black']), data['annotatorRace'], 'Other')\r\n",
        "  data = data.drop(['recAgnPairId','recImgPairId', 'similarity', 'similarityReason','AssignmentId','WorkerId', 'mainEvent', 'similarityReason', 'story', 'summary', 'mostSurprising'], axis =1 )\r\n",
        "  data = data.fillna(train_data.mean())\r\n",
        "  le1 = LabelEncoder()\r\n",
        "  le2 = LabelEncoder()\r\n",
        "  data['annotatorGender'] = data[['annotatorGender']].apply(le1.fit_transform)\r\n",
        "  data['annotatorRace'] = data[['annotatorRace']].apply(le2.fit_transform)\r\n",
        "  return data"
      ],
      "execution_count": 6,
      "outputs": []
    },
    {
      "cell_type": "code",
      "metadata": {
        "id": "B8BTW4sHf-Ue"
      },
      "source": [
        "train_data = preprocess_data(train_data)"
      ],
      "execution_count": 7,
      "outputs": []
    },
    {
      "cell_type": "code",
      "metadata": {
        "id": "A3g41UQi_WIL"
      },
      "source": [
        "le3 = LabelEncoder()\n",
        "train_data['memType'] = train_data[['memType']].apply(le3.fit_transform)"
      ],
      "execution_count": 8,
      "outputs": []
    },
    {
      "cell_type": "code",
      "metadata": {
        "colab": {
          "base_uri": "https://localhost:8080/"
        },
        "id": "mpUo3PI9-0aa",
        "outputId": "198971d7-763a-4386-d94e-3661052aee34"
      },
      "source": [
        "train_data['memType'].value_counts()"
      ],
      "execution_count": 9,
      "outputs": [
        {
          "output_type": "execute_result",
          "data": {
            "text/plain": [
              "1    2760\n",
              "0    2745\n",
              "2    1292\n",
              "Name: memType, dtype: int64"
            ]
          },
          "metadata": {
            "tags": []
          },
          "execution_count": 9
        }
      ]
    },
    {
      "cell_type": "code",
      "metadata": {
        "colab": {
          "base_uri": "https://localhost:8080/"
        },
        "id": "qeiq0OqiOW8q",
        "outputId": "df4147f8-73a8-4501-8b75-07ae7e197b5d"
      },
      "source": [
        "train_data.isnull().sum()"
      ],
      "execution_count": 10,
      "outputs": [
        {
          "output_type": "execute_result",
          "data": {
            "text/plain": [
              "WorkTimeInSeconds    0\n",
              "annotatorAge         0\n",
              "annotatorGender      0\n",
              "annotatorRace        0\n",
              "distracted           0\n",
              "draining             0\n",
              "frequency            0\n",
              "importance           0\n",
              "logTimeSinceEvent    0\n",
              "openness             0\n",
              "stressful            0\n",
              "timeSinceEvent       0\n",
              "memType              0\n",
              "dtype: int64"
            ]
          },
          "metadata": {
            "tags": []
          },
          "execution_count": 10
        }
      ]
    },
    {
      "cell_type": "markdown",
      "metadata": {
        "id": "j1uWygf2gmOu"
      },
      "source": [
        "# Created a new feature using pretrained sentimentIntensityAnalyzer classifying them as positive and negative story or summary"
      ]
    },
    {
      "cell_type": "code",
      "metadata": {
        "colab": {
          "base_uri": "https://localhost:8080/",
          "height": 86
        },
        "id": "dI7DDLKtW2SQ",
        "outputId": "a3d6dfef-bd25-4457-d8e8-0ed61add33cd"
      },
      "source": [
        "import nltk\n",
        "nltk.download('vader_lexicon')\n",
        "sentiment_score = []\n",
        "from nltk.sentiment.vader import SentimentIntensityAnalyzer\n",
        "sid = SentimentIntensityAnalyzer()\n",
        "sent = \"I was surprised that The Shining was playing at the theater in town. I got to watch the movie, and it kicked ass and was perfect and made me happy.\"\n",
        "\n",
        "score = sid.polarity_scores(sent)\n",
        "score.pop('compound')\n",
        "print(score)\n",
        "max(score, key=score.get)\n",
        "\n"
      ],
      "execution_count": 27,
      "outputs": [
        {
          "output_type": "stream",
          "text": [
            "[nltk_data] Downloading package vader_lexicon to /root/nltk_data...\n",
            "[nltk_data]   Package vader_lexicon is already up-to-date!\n",
            "{'neg': 0.093, 'neu': 0.612, 'pos': 0.295}\n"
          ],
          "name": "stdout"
        },
        {
          "output_type": "execute_result",
          "data": {
            "application/vnd.google.colaboratory.intrinsic+json": {
              "type": "string"
            },
            "text/plain": [
              "'neu'"
            ]
          },
          "metadata": {
            "tags": []
          },
          "execution_count": 27
        }
      ]
    },
    {
      "cell_type": "code",
      "metadata": {
        "id": "irY0Ccameers"
      },
      "source": [
        "sent_label = []\n",
        "for i in train_data['mostSurprising']:\n",
        "  score = sid.polarity_scores(i)\n",
        "  score.pop('compound')\n",
        "  score.pop('neu')\n",
        "  label = max(score, key=score.get)\n",
        "  label = label.replace(\"'\", \"\")\n",
        "  sent_label.append(label)"
      ],
      "execution_count": 28,
      "outputs": []
    },
    {
      "cell_type": "code",
      "metadata": {
        "id": "oc38rk_CfrKY"
      },
      "source": [
        "train_data['sent_label'] =  sent_label"
      ],
      "execution_count": 29,
      "outputs": []
    },
    {
      "cell_type": "code",
      "metadata": {
        "colab": {
          "base_uri": "https://localhost:8080/",
          "height": 402
        },
        "id": "qQdtYOo9hCdK",
        "outputId": "98e8a4d6-92e7-45ec-a269-ca94687d64a0"
      },
      "source": [
        "train_data[['sent_label', 'mostSurprising']]"
      ],
      "execution_count": 30,
      "outputs": [
        {
          "output_type": "execute_result",
          "data": {
            "text/html": [
              "<div>\n",
              "<style scoped>\n",
              "    .dataframe tbody tr th:only-of-type {\n",
              "        vertical-align: middle;\n",
              "    }\n",
              "\n",
              "    .dataframe tbody tr th {\n",
              "        vertical-align: top;\n",
              "    }\n",
              "\n",
              "    .dataframe thead th {\n",
              "        text-align: right;\n",
              "    }\n",
              "</style>\n",
              "<table border=\"1\" class=\"dataframe\">\n",
              "  <thead>\n",
              "    <tr style=\"text-align: right;\">\n",
              "      <th></th>\n",
              "      <th>sent_label</th>\n",
              "      <th>mostSurprising</th>\n",
              "    </tr>\n",
              "  </thead>\n",
              "  <tbody>\n",
              "    <tr>\n",
              "      <th>0</th>\n",
              "      <td>pos</td>\n",
              "      <td>the mourning process had a kind of positive si...</td>\n",
              "    </tr>\n",
              "    <tr>\n",
              "      <th>1</th>\n",
              "      <td>neg</td>\n",
              "      <td>he died very suddenly and within minutes</td>\n",
              "    </tr>\n",
              "    <tr>\n",
              "      <th>2</th>\n",
              "      <td>pos</td>\n",
              "      <td>when I got my unreserved kind of love.</td>\n",
              "    </tr>\n",
              "    <tr>\n",
              "      <th>3</th>\n",
              "      <td>pos</td>\n",
              "      <td>a surprise flash mob wedding proposal</td>\n",
              "    </tr>\n",
              "    <tr>\n",
              "      <th>4</th>\n",
              "      <td>pos</td>\n",
              "      <td>How emotional I felt during at the cemetery.</td>\n",
              "    </tr>\n",
              "    <tr>\n",
              "      <th>...</th>\n",
              "      <td>...</td>\n",
              "      <td>...</td>\n",
              "    </tr>\n",
              "    <tr>\n",
              "      <th>6792</th>\n",
              "      <td>neg</td>\n",
              "      <td>the car almost hit me.</td>\n",
              "    </tr>\n",
              "    <tr>\n",
              "      <th>6793</th>\n",
              "      <td>pos</td>\n",
              "      <td>my dad passed away so suddenly, when there wer...</td>\n",
              "    </tr>\n",
              "    <tr>\n",
              "      <th>6794</th>\n",
              "      <td>neg</td>\n",
              "      <td>how little rest me and my spouse got in the fo...</td>\n",
              "    </tr>\n",
              "    <tr>\n",
              "      <th>6795</th>\n",
              "      <td>neg</td>\n",
              "      <td>when my baby crawl for the first time in my pr...</td>\n",
              "    </tr>\n",
              "    <tr>\n",
              "      <th>6796</th>\n",
              "      <td>pos</td>\n",
              "      <td>my old friend walked in to my party</td>\n",
              "    </tr>\n",
              "  </tbody>\n",
              "</table>\n",
              "<p>6797 rows × 2 columns</p>\n",
              "</div>"
            ],
            "text/plain": [
              "     sent_label                                     mostSurprising\n",
              "0           pos  the mourning process had a kind of positive si...\n",
              "1           neg           he died very suddenly and within minutes\n",
              "2           pos             when I got my unreserved kind of love.\n",
              "3           pos              a surprise flash mob wedding proposal\n",
              "4           pos       How emotional I felt during at the cemetery.\n",
              "...         ...                                                ...\n",
              "6792        neg                             the car almost hit me.\n",
              "6793        pos  my dad passed away so suddenly, when there wer...\n",
              "6794        neg  how little rest me and my spouse got in the fo...\n",
              "6795        neg  when my baby crawl for the first time in my pr...\n",
              "6796        pos                my old friend walked in to my party\n",
              "\n",
              "[6797 rows x 2 columns]"
            ]
          },
          "metadata": {
            "tags": []
          },
          "execution_count": 30
        }
      ]
    },
    {
      "cell_type": "code",
      "metadata": {
        "id": "4M6-T0Z6fwq5"
      },
      "source": [
        "train_data = train_data.drop(['mostSurprising'], axis = 1)"
      ],
      "execution_count": 31,
      "outputs": []
    },
    {
      "cell_type": "code",
      "metadata": {
        "id": "uCjK8LROgAdQ"
      },
      "source": [
        "le4 = LabelEncoder()\n",
        "train_data['sent_label'] = train_data[['sent_label']].apply(le4.fit_transform)"
      ],
      "execution_count": null,
      "outputs": []
    },
    {
      "cell_type": "markdown",
      "metadata": {
        "id": "PmwgvZ-oDYyc"
      },
      "source": [
        "# Splitting the data \n"
      ]
    },
    {
      "cell_type": "code",
      "metadata": {
        "id": "2DIyZUHeDYSF"
      },
      "source": [
        "y = train_data['memType'].values\n",
        "x = train_data.drop(['memType'], axis =1).values"
      ],
      "execution_count": 11,
      "outputs": []
    },
    {
      "cell_type": "markdown",
      "metadata": {
        "id": "fjB_V3WyDu8M"
      },
      "source": [
        "# Splitting data to training and test \n"
      ]
    },
    {
      "cell_type": "code",
      "metadata": {
        "id": "uTfR-6N4DuOg"
      },
      "source": [
        "x_train, x_test, y_train, y_test = train_test_split(x, y, test_size=0.25, random_state=0)"
      ],
      "execution_count": 12,
      "outputs": []
    },
    {
      "cell_type": "code",
      "metadata": {
        "colab": {
          "base_uri": "https://localhost:8080/"
        },
        "id": "ZMuv4_z4omQ1",
        "outputId": "3a300685-bd9f-4516-f076-67f61393cdf0"
      },
      "source": [
        "train_data.columns"
      ],
      "execution_count": 13,
      "outputs": [
        {
          "output_type": "execute_result",
          "data": {
            "text/plain": [
              "Index(['WorkTimeInSeconds', 'annotatorAge', 'annotatorGender', 'annotatorRace',\n",
              "       'distracted', 'draining', 'frequency', 'importance',\n",
              "       'logTimeSinceEvent', 'openness', 'stressful', 'timeSinceEvent',\n",
              "       'memType'],\n",
              "      dtype='object')"
            ]
          },
          "metadata": {
            "tags": []
          },
          "execution_count": 13
        }
      ]
    },
    {
      "cell_type": "code",
      "metadata": {
        "colab": {
          "base_uri": "https://localhost:8080/"
        },
        "id": "sTFgmcd0Mc33",
        "outputId": "6a076dd7-eec7-4f99-e778-790dff0c9a5f"
      },
      "source": [
        "from imblearn.over_sampling import SMOTE\n",
        "sm = SMOTE('minority')\n",
        "x_train, y_train = sm.fit_sample(x_train, y_train)"
      ],
      "execution_count": 14,
      "outputs": [
        {
          "output_type": "stream",
          "text": [
            "/usr/local/lib/python3.6/dist-packages/sklearn/externals/six.py:31: FutureWarning: The module is deprecated in version 0.21 and will be removed in version 0.23 since we've dropped support for Python 2.7. Please rely on the official version of six (https://pypi.org/project/six/).\n",
            "  \"(https://pypi.org/project/six/).\", FutureWarning)\n",
            "/usr/local/lib/python3.6/dist-packages/sklearn/utils/deprecation.py:144: FutureWarning: The sklearn.neighbors.base module is  deprecated in version 0.22 and will be removed in version 0.24. The corresponding classes / functions should instead be imported from sklearn.neighbors. Anything that cannot be imported from sklearn.neighbors is now part of the private API.\n",
            "  warnings.warn(message, FutureWarning)\n",
            "/usr/local/lib/python3.6/dist-packages/sklearn/utils/deprecation.py:87: FutureWarning: Function safe_indexing is deprecated; safe_indexing is deprecated in version 0.22 and will be removed in version 0.24.\n",
            "  warnings.warn(msg, category=FutureWarning)\n"
          ],
          "name": "stderr"
        }
      ]
    },
    {
      "cell_type": "code",
      "metadata": {
        "colab": {
          "base_uri": "https://localhost:8080/"
        },
        "id": "UFFUpMi5EDab",
        "outputId": "438b59ed-6231-4d40-b93c-d3065f7fe06a"
      },
      "source": [
        "feature_names = ['WorkTimeInSeconds', 'annotatorAge', 'annotatorGender', 'annotatorRace',\n",
        "       'distracted', 'draining', 'frequency', 'importance',\n",
        "       'logTimeSinceEvent', 'openness', 'stressful', 'timeSinceEvent','sent_label']\n",
        "model = XGBClassifier(feature_names=feature_names) \n",
        "model.fit(x_train, y_train)\n",
        "model.feature_importances_"
      ],
      "execution_count": 22,
      "outputs": [
        {
          "output_type": "execute_result",
          "data": {
            "text/plain": [
              "array([0.02769426, 0.02446976, 0.02751647, 0.01272485, 0.06227756,\n",
              "       0.02537772, 0.48173293, 0.05096297, 0.10081156, 0.01643974,\n",
              "       0.02669424, 0.14329803], dtype=float32)"
            ]
          },
          "metadata": {
            "tags": []
          },
          "execution_count": 22
        }
      ]
    },
    {
      "cell_type": "code",
      "metadata": {
        "colab": {
          "base_uri": "https://localhost:8080/",
          "height": 295
        },
        "id": "aF_zyaLThgqz",
        "outputId": "4f8b19eb-281d-4579-8b5c-79b4d11d8c11"
      },
      "source": [
        "from xgboost import plot_importance\n",
        "from matplotlib import pyplot\n",
        "plot_importance(model, )\n",
        "pyplot.show()"
      ],
      "execution_count": 23,
      "outputs": [
        {
          "output_type": "display_data",
          "data": {
            "image/png": "[encoded data removed]",
            "text/plain": [
              "<Figure size 432x288 with 1 Axes>"
            ]
          },
          "metadata": {
            "tags": [],
            "needs_background": "light"
          }
        }
      ]
    },
    {
      "cell_type": "markdown",
      "metadata": {
        "id": "RCQQuPcDjJHe"
      },
      "source": [
        "# Model Evaluation"
      ]
    },
    {
      "cell_type": "code",
      "metadata": {
        "colab": {
          "base_uri": "https://localhost:8080/"
        },
        "id": "pvMXHp4nExFh",
        "outputId": "d3f1e1d8-ab44-48c3-bba1-d73077bec343"
      },
      "source": [
        "y_pred_train = model.predict(x_train)\n",
        "train_accuracy = accuracy_score(y_train, y_pred_train) \n",
        "\n",
        "y_pred = model.predict(x_test)\n",
        "accuracy = accuracy_score(y_test, y_pred) \n",
        "\n",
        "print(\"train Accuracy: %.2f%%\" % (train_accuracy * 100.0))\n",
        "print(\"Accuracy: %.2f%%\" % (accuracy * 100.0))"
      ],
      "execution_count": 24,
      "outputs": [
        {
          "output_type": "stream",
          "text": [
            "train Accuracy: 91.01%\n",
            "Accuracy: 88.53%\n"
          ],
          "name": "stdout"
        }
      ]
    },
    {
      "cell_type": "markdown",
      "metadata": {
        "id": "ZAL5B0PEjNTI"
      },
      "source": [
        "# Load the validation data\r\n"
      ]
    },
    {
      "cell_type": "code",
      "metadata": {
        "colab": {
          "base_uri": "https://localhost:8080/"
        },
        "id": "x89ChjR0GqrJ",
        "outputId": "5da8e937-8272-4a70-afe4-1334c4d72dec"
      },
      "source": [
        "test_data = pd.read_csv('https://raw.githubusercontent.com/dphi-official/Datasets/master/hippocorpus/test_set_label.csv')\n",
        "test_data.info()"
      ],
      "execution_count": 25,
      "outputs": [
        {
          "output_type": "stream",
          "text": [
            "<class 'pandas.core.frame.DataFrame'>\n",
            "RangeIndex: 2057 entries, 0 to 2056\n",
            "Data columns (total 22 columns):\n",
            " #   Column             Non-Null Count  Dtype  \n",
            "---  ------             --------------  -----  \n",
            " 0   AssignmentId       2057 non-null   object \n",
            " 1   WorkTimeInSeconds  2057 non-null   int64  \n",
            " 2   WorkerId           2057 non-null   object \n",
            " 3   annotatorAge       2051 non-null   float64\n",
            " 4   annotatorGender    2057 non-null   object \n",
            " 5   annotatorRace      2057 non-null   object \n",
            " 6   distracted         2057 non-null   object \n",
            " 7   draining           2057 non-null   object \n",
            " 8   frequency          1230 non-null   float64\n",
            " 9   importance         2018 non-null   float64\n",
            " 10  logTimeSinceEvent  2057 non-null   float64\n",
            " 11  mainEvent          2057 non-null   object \n",
            " 12  mostSurprising     2057 non-null   object \n",
            " 13  openness           2057 non-null   float64\n",
            " 14  recAgnPairId       811 non-null    object \n",
            " 15  recImgPairId       1595 non-null   object \n",
            " 16  similarity         827 non-null    float64\n",
            " 17  similarityReason   827 non-null    object \n",
            " 18  story              2057 non-null   object \n",
            " 19  stressful          2057 non-null   float64\n",
            " 20  summary            2057 non-null   object \n",
            " 21  timeSinceEvent     2057 non-null   float64\n",
            "dtypes: float64(8), int64(1), object(13)\n",
            "memory usage: 353.7+ KB\n"
          ],
          "name": "stdout"
        }
      ]
    },
    {
      "cell_type": "markdown",
      "metadata": {
        "id": "gbfuZBQnjTpu"
      },
      "source": [
        "# Preprocess the validation dataset"
      ]
    },
    {
      "cell_type": "code",
      "metadata": {
        "id": "IA-Vyjf7HDKK"
      },
      "source": [
        "test_data = preprocess_data(test_data)"
      ],
      "execution_count": 26,
      "outputs": []
    },
    {
      "cell_type": "markdown",
      "metadata": {
        "id": "Wp2qDnHIjYfD"
      },
      "source": [
        "# Predictions on Validation Dataset\r\n"
      ]
    },
    {
      "cell_type": "code",
      "metadata": {
        "id": "emkeOFJDFlUS"
      },
      "source": [
        "y_pred = model.predict(test_data.values)\n",
        "y_pred = le3.inverse_transform(y_pred)\n",
        "result_df = pd.DataFrame()\n",
        "result_df['prediction'] = y_pred\n",
        "result_df.reset_index(drop=True, inplace=True)\n",
        "result_df.to_csv('sample_submission.csv', index = False)"
      ],
      "execution_count": 27,
      "outputs": []
    },
    {
      "cell_type": "code",
      "metadata": {
        "colab": {
          "base_uri": "https://localhost:8080/",
          "height": 195
        },
        "id": "F-OZ8f-KLEmX",
        "outputId": "68b0ae53-6c7c-40ff-a825-f065dfd07696"
      },
      "source": [
        "# The accuracy on Validation dataset was 88%\r\n",
        "\r\n",
        "result_df.head()\r\n"
      ],
      "execution_count": 28,
      "outputs": [
        {
          "output_type": "execute_result",
          "data": {
            "text/html": [
              "<div>\n",
              "<style scoped>\n",
              "    .dataframe tbody tr th:only-of-type {\n",
              "        vertical-align: middle;\n",
              "    }\n",
              "\n",
              "    .dataframe tbody tr th {\n",
              "        vertical-align: top;\n",
              "    }\n",
              "\n",
              "    .dataframe thead th {\n",
              "        text-align: right;\n",
              "    }\n",
              "</style>\n",
              "<table border=\"1\" class=\"dataframe\">\n",
              "  <thead>\n",
              "    <tr style=\"text-align: right;\">\n",
              "      <th></th>\n",
              "      <th>prediction</th>\n",
              "    </tr>\n",
              "  </thead>\n",
              "  <tbody>\n",
              "    <tr>\n",
              "      <th>0</th>\n",
              "      <td>imagined</td>\n",
              "    </tr>\n",
              "    <tr>\n",
              "      <th>1</th>\n",
              "      <td>recalled</td>\n",
              "    </tr>\n",
              "    <tr>\n",
              "      <th>2</th>\n",
              "      <td>recalled</td>\n",
              "    </tr>\n",
              "    <tr>\n",
              "      <th>3</th>\n",
              "      <td>retold</td>\n",
              "    </tr>\n",
              "    <tr>\n",
              "      <th>4</th>\n",
              "      <td>imagined</td>\n",
              "    </tr>\n",
              "  </tbody>\n",
              "</table>\n",
              "</div>"
            ],
            "text/plain": [
              "  prediction\n",
              "0   imagined\n",
              "1   recalled\n",
              "2   recalled\n",
              "3     retold\n",
              "4   imagined"
            ]
          },
          "metadata": {
            "tags": []
          },
          "execution_count": 28
        }
      ]
    }
  ]
}